{
  "nbformat": 4,
  "nbformat_minor": 0,
  "metadata": {
    "colab": {
      "name": "Neural_Regression_Boston_housing.ipynb",
      "provenance": [],
      "authorship_tag": "ABX9TyNA+Oi0j85LGYpxgEFCQgNT",
      "include_colab_link": true
    },
    "kernelspec": {
      "name": "python3",
      "display_name": "Python 3"
    },
    "language_info": {
      "name": "python"
    }
  },
  "cells": [
    {
      "cell_type": "markdown",
      "metadata": {
        "id": "view-in-github",
        "colab_type": "text"
      },
      "source": [
        "<a href=\"https://colab.research.google.com/github/Jayveersinh-Raj/Boston_Housing_Neural_Regression/blob/main/Neural_Regression_Boston_housing.ipynb\" target=\"_parent\"><img src=\"https://colab.research.google.com/assets/colab-badge.svg\" alt=\"Open In Colab\"/></a>"
      ]
    },
    {
      "cell_type": "markdown",
      "source": [
        "# Lets create Neural Network Regression on tensorflow build in Boston Housing data set\n",
        "Without Normalization\n",
        "\n",
        "With normalization is not covered since tensforflow boston housing i.e. provided by tensorflow does give us column names\n"
      ],
      "metadata": {
        "id": "EGA-FLKvpzGu"
      }
    },
    {
      "cell_type": "markdown",
      "source": [
        "# 1. Without Normalization"
      ],
      "metadata": {
        "id": "QFyOPhmSqJlj"
      }
    },
    {
      "cell_type": "code",
      "source": [
        "# Lets first import our all time must needed dependencies\n",
        "import tensorflow as tf\n",
        "import pandas as pd\n",
        "import matplotlib.pyplot as plt"
      ],
      "metadata": {
        "id": "Tnn9KhQfqONn"
      },
      "execution_count": 1,
      "outputs": []
    },
    {
      "cell_type": "code",
      "source": [
        "# Now lets import our Boston Housing data set using the documentation of tensorflow\n",
        "(x_train, y_train), (x_test, y_test) = tf.keras.datasets.boston_housing.load_data( path = \"boston_housing\", test_split = 0.2, seed = 113)"
      ],
      "metadata": {
        "id": "N9D_djwLqfph"
      },
      "execution_count": 23,
      "outputs": []
    },
    {
      "cell_type": "code",
      "source": [
        "# Lets check of training and test data\n",
        "x_train"
      ],
      "metadata": {
        "colab": {
          "base_uri": "https://localhost:8080/"
        },
        "id": "DOndfoJ4rdKA",
        "outputId": "f3ef6c91-36e5-484a-ae9e-095aac6ad5f9"
      },
      "execution_count": 7,
      "outputs": [
        {
          "output_type": "execute_result",
          "data": {
            "text/plain": [
              "array([[1.23247e+00, 0.00000e+00, 8.14000e+00, ..., 2.10000e+01,\n",
              "        3.96900e+02, 1.87200e+01],\n",
              "       [2.17700e-02, 8.25000e+01, 2.03000e+00, ..., 1.47000e+01,\n",
              "        3.95380e+02, 3.11000e+00],\n",
              "       [4.89822e+00, 0.00000e+00, 1.81000e+01, ..., 2.02000e+01,\n",
              "        3.75520e+02, 3.26000e+00],\n",
              "       ...,\n",
              "       [3.46600e-02, 3.50000e+01, 6.06000e+00, ..., 1.69000e+01,\n",
              "        3.62250e+02, 7.83000e+00],\n",
              "       [2.14918e+00, 0.00000e+00, 1.95800e+01, ..., 1.47000e+01,\n",
              "        2.61950e+02, 1.57900e+01],\n",
              "       [1.43900e-02, 6.00000e+01, 2.93000e+00, ..., 1.56000e+01,\n",
              "        3.76700e+02, 4.38000e+00]])"
            ]
          },
          "metadata": {},
          "execution_count": 7
        }
      ]
    },
    {
      "cell_type": "code",
      "source": [
        "y_train # These are the prices of houses in K$ (thousands dollars) according to documentation"
      ],
      "metadata": {
        "colab": {
          "base_uri": "https://localhost:8080/"
        },
        "id": "qUGdcvmWri8G",
        "outputId": "282e0b6b-0dc0-456c-8135-9d5fb0dc273e"
      },
      "execution_count": 8,
      "outputs": [
        {
          "output_type": "execute_result",
          "data": {
            "text/plain": [
              "array([15.2, 42.3, 50. , 21.1, 17.7, 18.5, 11.3, 15.6, 15.6, 14.4, 12.1,\n",
              "       17.9, 23.1, 19.9, 15.7,  8.8, 50. , 22.5, 24.1, 27.5, 10.9, 30.8,\n",
              "       32.9, 24. , 18.5, 13.3, 22.9, 34.7, 16.6, 17.5, 22.3, 16.1, 14.9,\n",
              "       23.1, 34.9, 25. , 13.9, 13.1, 20.4, 20. , 15.2, 24.7, 22.2, 16.7,\n",
              "       12.7, 15.6, 18.4, 21. , 30.1, 15.1, 18.7,  9.6, 31.5, 24.8, 19.1,\n",
              "       22. , 14.5, 11. , 32. , 29.4, 20.3, 24.4, 14.6, 19.5, 14.1, 14.3,\n",
              "       15.6, 10.5,  6.3, 19.3, 19.3, 13.4, 36.4, 17.8, 13.5, 16.5,  8.3,\n",
              "       14.3, 16. , 13.4, 28.6, 43.5, 20.2, 22. , 23. , 20.7, 12.5, 48.5,\n",
              "       14.6, 13.4, 23.7, 50. , 21.7, 39.8, 38.7, 22.2, 34.9, 22.5, 31.1,\n",
              "       28.7, 46. , 41.7, 21. , 26.6, 15. , 24.4, 13.3, 21.2, 11.7, 21.7,\n",
              "       19.4, 50. , 22.8, 19.7, 24.7, 36.2, 14.2, 18.9, 18.3, 20.6, 24.6,\n",
              "       18.2,  8.7, 44. , 10.4, 13.2, 21.2, 37. , 30.7, 22.9, 20. , 19.3,\n",
              "       31.7, 32. , 23.1, 18.8, 10.9, 50. , 19.6,  5. , 14.4, 19.8, 13.8,\n",
              "       19.6, 23.9, 24.5, 25. , 19.9, 17.2, 24.6, 13.5, 26.6, 21.4, 11.9,\n",
              "       22.6, 19.6,  8.5, 23.7, 23.1, 22.4, 20.5, 23.6, 18.4, 35.2, 23.1,\n",
              "       27.9, 20.6, 23.7, 28. , 13.6, 27.1, 23.6, 20.6, 18.2, 21.7, 17.1,\n",
              "        8.4, 25.3, 13.8, 22.2, 18.4, 20.7, 31.6, 30.5, 20.3,  8.8, 19.2,\n",
              "       19.4, 23.1, 23. , 14.8, 48.8, 22.6, 33.4, 21.1, 13.6, 32.2, 13.1,\n",
              "       23.4, 18.9, 23.9, 11.8, 23.3, 22.8, 19.6, 16.7, 13.4, 22.2, 20.4,\n",
              "       21.8, 26.4, 14.9, 24.1, 23.8, 12.3, 29.1, 21. , 19.5, 23.3, 23.8,\n",
              "       17.8, 11.5, 21.7, 19.9, 25. , 33.4, 28.5, 21.4, 24.3, 27.5, 33.1,\n",
              "       16.2, 23.3, 48.3, 22.9, 22.8, 13.1, 12.7, 22.6, 15. , 15.3, 10.5,\n",
              "       24. , 18.5, 21.7, 19.5, 33.2, 23.2,  5. , 19.1, 12.7, 22.3, 10.2,\n",
              "       13.9, 16.3, 17. , 20.1, 29.9, 17.2, 37.3, 45.4, 17.8, 23.2, 29. ,\n",
              "       22. , 18. , 17.4, 34.6, 20.1, 25. , 15.6, 24.8, 28.2, 21.2, 21.4,\n",
              "       23.8, 31. , 26.2, 17.4, 37.9, 17.5, 20. ,  8.3, 23.9,  8.4, 13.8,\n",
              "        7.2, 11.7, 17.1, 21.6, 50. , 16.1, 20.4, 20.6, 21.4, 20.6, 36.5,\n",
              "        8.5, 24.8, 10.8, 21.9, 17.3, 18.9, 36.2, 14.9, 18.2, 33.3, 21.8,\n",
              "       19.7, 31.6, 24.8, 19.4, 22.8,  7.5, 44.8, 16.8, 18.7, 50. , 50. ,\n",
              "       19.5, 20.1, 50. , 17.2, 20.8, 19.3, 41.3, 20.4, 20.5, 13.8, 16.5,\n",
              "       23.9, 20.6, 31.5, 23.3, 16.8, 14. , 33.8, 36.1, 12.8, 18.3, 18.7,\n",
              "       19.1, 29. , 30.1, 50. , 50. , 22. , 11.9, 37.6, 50. , 22.7, 20.8,\n",
              "       23.5, 27.9, 50. , 19.3, 23.9, 22.6, 15.2, 21.7, 19.2, 43.8, 20.3,\n",
              "       33.2, 19.9, 22.5, 32.7, 22. , 17.1, 19. , 15. , 16.1, 25.1, 23.7,\n",
              "       28.7, 37.2, 22.6, 16.4, 25. , 29.8, 22.1, 17.4, 18.1, 30.3, 17.5,\n",
              "       24.7, 12.6, 26.5, 28.7, 13.3, 10.4, 24.4, 23. , 20. , 17.8,  7. ,\n",
              "       11.8, 24.4, 13.8, 19.4, 25.2, 19.4, 19.4, 29.1])"
            ]
          },
          "metadata": {},
          "execution_count": 8
        }
      ]
    },
    {
      "cell_type": "code",
      "source": [
        "# Lets check the shape\n",
        "x_train.shape, x_test.shape"
      ],
      "metadata": {
        "colab": {
          "base_uri": "https://localhost:8080/"
        },
        "id": "gtipoMVdrlqA",
        "outputId": "ff6349f7-19c2-4947-b6e0-70d15faa5992"
      },
      "execution_count": 9,
      "outputs": [
        {
          "output_type": "execute_result",
          "data": {
            "text/plain": [
              "((404, 13), (102, 13))"
            ]
          },
          "metadata": {},
          "execution_count": 9
        }
      ]
    },
    {
      "cell_type": "code",
      "source": [
        "# Alright our preprocessing is done for without normalization\n",
        "# Now lets build our model\n",
        "\n",
        "# 1. Create the model\n",
        "model = tf.keras.Sequential([\n",
        "      tf.keras.layers.Dense(10, activation = None),\n",
        "      tf.keras.layers.Dense(1, activation = None) \n",
        "])\n",
        "\n",
        "# 2. Compile the model\n",
        "model.compile(loss = tf.keras.losses.mae,\n",
        "              optimizer = tf.optimizers.Adam(),\n",
        "              metrics = [\"mae\"])\n",
        "\n",
        "# 3. Fitting the model\n",
        "model.fit(x_train, y_train, epochs = 100, verbose = 0)"
      ],
      "metadata": {
        "colab": {
          "base_uri": "https://localhost:8080/"
        },
        "id": "b6t8U8GerwOR",
        "outputId": "1dfbaf7b-dfb5-45fd-acd0-9b2eca60cd46"
      },
      "execution_count": 15,
      "outputs": [
        {
          "output_type": "execute_result",
          "data": {
            "text/plain": [
              "<keras.callbacks.History at 0x7f1a2db4bfd0>"
            ]
          },
          "metadata": {},
          "execution_count": 15
        }
      ]
    },
    {
      "cell_type": "code",
      "source": [
        "# Lets see the predictions\n",
        "y_pred = model.predict(x_test) # predict based on test data x_test and give predictions for y\n",
        "y_pred"
      ],
      "metadata": {
        "colab": {
          "base_uri": "https://localhost:8080/"
        },
        "id": "wblvAXLBtZ-7",
        "outputId": "7705fc2b-aa57-4e8c-9524-9da1eb662f32"
      },
      "execution_count": 17,
      "outputs": [
        {
          "output_type": "execute_result",
          "data": {
            "text/plain": [
              "array([[ 4.054943 ],\n",
              "       [18.642992 ],\n",
              "       [21.26837  ],\n",
              "       [25.014296 ],\n",
              "       [21.597992 ],\n",
              "       [18.242844 ],\n",
              "       [28.982555 ],\n",
              "       [24.834494 ],\n",
              "       [18.565752 ],\n",
              "       [19.505444 ],\n",
              "       [15.8853035],\n",
              "       [21.889393 ],\n",
              "       [19.492716 ],\n",
              "       [24.547297 ],\n",
              "       [16.323427 ],\n",
              "       [23.64326  ],\n",
              "       [20.864622 ],\n",
              "       [19.35242  ],\n",
              "       [19.06311  ],\n",
              "       [24.075388 ],\n",
              "       [12.082265 ],\n",
              "       [ 8.743878 ],\n",
              "       [19.88957  ],\n",
              "       [20.175055 ],\n",
              "       [28.545286 ],\n",
              "       [20.592335 ],\n",
              "       [24.805386 ],\n",
              "       [34.19905  ],\n",
              "       [ 7.846217 ],\n",
              "       [22.052353 ],\n",
              "       [20.06154  ],\n",
              "       [10.694548 ],\n",
              "       [30.395473 ],\n",
              "       [20.134684 ],\n",
              "       [16.948002 ],\n",
              "       [ 8.143474 ],\n",
              "       [13.849738 ],\n",
              "       [15.46259  ],\n",
              "       [20.908709 ],\n",
              "       [31.20307  ],\n",
              "       [25.966759 ],\n",
              "       [21.91419  ],\n",
              "       [17.969555 ],\n",
              "       [22.450846 ],\n",
              "       [24.71887  ],\n",
              "       [19.315804 ],\n",
              "       [25.222795 ],\n",
              "       [18.459333 ],\n",
              "       [22.144503 ],\n",
              "       [20.658995 ],\n",
              "       [33.58386  ],\n",
              "       [17.564415 ],\n",
              "       [12.765742 ],\n",
              "       [18.662086 ],\n",
              "       [27.038975 ],\n",
              "       [23.07958  ],\n",
              "       [16.437658 ],\n",
              "       [24.114798 ],\n",
              "       [30.775717 ],\n",
              "       [22.716526 ],\n",
              "       [20.434908 ],\n",
              "       [18.546421 ],\n",
              "       [12.4446945],\n",
              "       [19.713654 ],\n",
              "       [23.15098  ],\n",
              "       [30.626373 ],\n",
              "       [15.771563 ],\n",
              "       [27.009357 ],\n",
              "       [10.945461 ],\n",
              "       [11.883428 ],\n",
              "       [23.774971 ],\n",
              "       [26.050404 ],\n",
              "       [20.78389  ],\n",
              "       [14.6058655],\n",
              "       [22.95813  ],\n",
              "       [21.119528 ],\n",
              "       [22.258665 ],\n",
              "       [20.254576 ],\n",
              "       [24.460136 ],\n",
              "       [ 9.500844 ],\n",
              "       [19.48964  ],\n",
              "       [24.599792 ],\n",
              "       [23.04968  ],\n",
              "       [17.622337 ],\n",
              "       [20.830885 ],\n",
              "       [18.896843 ],\n",
              "       [19.083132 ],\n",
              "       [20.784006 ],\n",
              "       [22.8702   ],\n",
              "       [23.72081  ],\n",
              "       [17.945877 ],\n",
              "       [27.87565  ],\n",
              "       [23.751562 ],\n",
              "       [27.505222 ],\n",
              "       [23.769289 ],\n",
              "       [18.644602 ],\n",
              "       [24.476524 ],\n",
              "       [28.597122 ],\n",
              "       [20.466345 ],\n",
              "       [29.532862 ],\n",
              "       [25.4322   ],\n",
              "       [17.577768 ]], dtype=float32)"
            ]
          },
          "metadata": {},
          "execution_count": 17
        }
      ]
    },
    {
      "cell_type": "code",
      "source": [
        "# Lets Evaluate the model on the test data\n",
        "model.evaluate(x_test, y_test)"
      ],
      "metadata": {
        "colab": {
          "base_uri": "https://localhost:8080/"
        },
        "id": "Vn-ubtzHtGvR",
        "outputId": "29b14a1c-0ade-4201-e54f-acb9242d350f"
      },
      "execution_count": 16,
      "outputs": [
        {
          "output_type": "stream",
          "name": "stdout",
          "text": [
            "4/4 [==============================] - 0s 4ms/step - loss: 4.8550 - mae: 4.8550\n"
          ]
        },
        {
          "output_type": "execute_result",
          "data": {
            "text/plain": [
              "[4.855040073394775, 4.855040073394775]"
            ]
          },
          "metadata": {},
          "execution_count": 16
        }
      ]
    },
    {
      "cell_type": "code",
      "source": [
        "# Lets see if this mae is significant or how much significant to our prices\n",
        "import numpy as np\n",
        "np.median(y_test), np.mean(y_test)"
      ],
      "metadata": {
        "colab": {
          "base_uri": "https://localhost:8080/"
        },
        "id": "17wPtHxItygm",
        "outputId": "822d45d2-5ac6-43dd-8492-10dbe20956a4"
      },
      "execution_count": 25,
      "outputs": [
        {
          "output_type": "execute_result",
          "data": {
            "text/plain": [
              "(21.95, 23.07843137254902)"
            ]
          },
          "metadata": {},
          "execution_count": 25
        }
      ]
    },
    {
      "cell_type": "markdown",
      "source": [
        "Alright so, looking at mean and median 4k is not a significant number. Lets see how much % is 4k of the means  and median"
      ],
      "metadata": {
        "id": "B3fL3m45vlD0"
      }
    },
    {
      "cell_type": "code",
      "source": [
        "# Lets see the % 4 is\n",
        "(4/np.median(y_test))*100, (4/np.mean(y_test))*100"
      ],
      "metadata": {
        "colab": {
          "base_uri": "https://localhost:8080/"
        },
        "id": "cogscMoevud3",
        "outputId": "abc26f77-0aa5-47d5-c14e-5cd3cb5361e2"
      },
      "execution_count": 26,
      "outputs": [
        {
          "output_type": "execute_result",
          "data": {
            "text/plain": [
              "(18.223234624145785, 17.332200509770605)"
            ]
          },
          "metadata": {},
          "execution_count": 26
        }
      ]
    },
    {
      "cell_type": "markdown",
      "source": [
        "So we have on average 17-18% error, lets try and reduce it"
      ],
      "metadata": {
        "id": "zNn_Nr8dv8sD"
      }
    },
    {
      "cell_type": "code",
      "source": [
        "# Improving our model\n",
        "tf.random.set_seed(42)\n",
        "\n",
        "# 1. Create the model\n",
        "model2 = tf.keras.Sequential([\n",
        "      tf.keras.layers.Dense(100, activation = None),\n",
        "      tf.keras.layers.Dense(100, activation = None),\n",
        "      tf.keras.layers.Dense(2, activation = None)\n",
        "])\n",
        "\n",
        "# Compiling the model\n",
        "model2.compile(loss = tf.keras.losses.mae,\n",
        "               optimizer = tf.keras.optimizers.Adam(learning_rate = 0.1),\n",
        "               metrics = [\"mae\"])\n",
        "\n",
        "# Fitting\n",
        "history = model2.fit(x_train, y_train, epochs = 100, verbose = 0)"
      ],
      "metadata": {
        "id": "G7nLPuHAwD1H"
      },
      "execution_count": 67,
      "outputs": []
    },
    {
      "cell_type": "code",
      "source": [
        "# Lets Evaluate our above model\n",
        "model2.evaluate(x_test, y_test)"
      ],
      "metadata": {
        "colab": {
          "base_uri": "https://localhost:8080/"
        },
        "id": "rhvNqKLJwybZ",
        "outputId": "91c5e040-f9fc-49c9-84dc-a2a0a4e6b9d6"
      },
      "execution_count": 68,
      "outputs": [
        {
          "output_type": "stream",
          "name": "stdout",
          "text": [
            "4/4 [==============================] - 0s 4ms/step - loss: 3.9094 - mae: 3.9094\n"
          ]
        },
        {
          "output_type": "execute_result",
          "data": {
            "text/plain": [
              "[3.909445285797119, 3.909445285797119]"
            ]
          },
          "metadata": {},
          "execution_count": 68
        }
      ]
    },
    {
      "cell_type": "markdown",
      "source": [
        "Alright so we improved it from 4.8 to 3.9 which is quite good"
      ],
      "metadata": {
        "id": "jMflPYZbyXYy"
      }
    },
    {
      "cell_type": "code",
      "source": [
        "# Lets end by visulaising the loss function\n",
        "pd.DataFrame(history.history).plot()\n",
        "plt.xlabel(\"epochs\")\n",
        "plt.ylabel(\"loss\")"
      ],
      "metadata": {
        "colab": {
          "base_uri": "https://localhost:8080/",
          "height": 300
        },
        "id": "PilwcgFwyx0u",
        "outputId": "9ba4604f-9b65-4b0a-f742-44b55bb36486"
      },
      "execution_count": 70,
      "outputs": [
        {
          "output_type": "execute_result",
          "data": {
            "text/plain": [
              "Text(0, 0.5, 'loss')"
            ]
          },
          "metadata": {},
          "execution_count": 70
        },
        {
          "output_type": "display_data",
          "data": {
            "text/plain": [
              "<Figure size 432x288 with 1 Axes>"
            ],
            "image/png": "[encoded data removed]"
          },
          "metadata": {
            "needs_background": "light"
          }
        }
      ]
    },
    {
      "cell_type": "markdown",
      "source": [
        "# 2. With Normalization"
      ],
      "metadata": {
        "id": "PgHl98qyydlc"
      }
    },
    {
      "cell_type": "code",
      "source": [
        "# Lets make from scratch by importing libraries\n",
        "import tensorflow as tf\n",
        "import pandas as pd\n",
        "import matplotlib.pyplot as plt"
      ],
      "metadata": {
        "id": "o8HxXkpTyjqp"
      },
      "execution_count": 71,
      "outputs": []
    },
    {
      "cell_type": "code",
      "source": [
        "# Lets load our data to train and test sets from the boston housing\n",
        "(x_train, x_test), (y_train, y_test) = tf.keras.datasets.boston_housing.load_data(path='boston_housing.npz', test_split=0.2, seed=113)\n"
      ],
      "metadata": {
        "colab": {
          "base_uri": "https://localhost:8080/"
        },
        "id": "GYYiWnWnzYM_",
        "outputId": "d0698bb8-5261-4b41-ae90-7bff443b6aaa"
      },
      "execution_count": 72,
      "outputs": [
        {
          "output_type": "stream",
          "name": "stdout",
          "text": [
            "Downloading data from https://storage.googleapis.com/tensorflow/tf-keras-datasets/boston_housing.npz\n",
            "57344/57026 [==============================] - 0s 0us/step\n",
            "65536/57026 [==================================] - 0s 0us/step\n"
          ]
        }
      ]
    },
    {
      "cell_type": "code",
      "source": [
        "# Now lets code our transformers\n",
        "# First import libraries\n",
        "from sklearn.compose import make_column_transformer\n",
        "from sklearn.preprocessing import MinMaxScaler # We do not import OneHotEncoding since boston housing is alredy encoded data/numerical data\n",
        "# We do not import train test split here\n",
        "\n",
        "# Column transformer\n",
        "ct = make_column_transformer(\n",
        "    MinMaxScaler(), [0:] # We do not know the names of the columns\n",
        ")"
      ],
      "metadata": {
        "colab": {
          "base_uri": "https://localhost:8080/",
          "height": 380
        },
        "id": "FcG34Lw0zxTa",
        "outputId": "da3fe981-bad8-4a40-bbb7-e497a0b78188"
      },
      "execution_count": 77,
      "outputs": [
        {
          "output_type": "error",
          "ename": "TypeError",
          "evalue": "ignored",
          "traceback": [
            "\u001b[0;31m---------------------------------------------------------------------------\u001b[0m",
            "\u001b[0;31mTypeError\u001b[0m                                 Traceback (most recent call last)",
            "\u001b[0;32m<ipython-input-77-05354abec542>\u001b[0m in \u001b[0;36m<module>\u001b[0;34m()\u001b[0m\n\u001b[1;32m      7\u001b[0m \u001b[0;31m# Column transformer\u001b[0m\u001b[0;34m\u001b[0m\u001b[0;34m\u001b[0m\u001b[0;34m\u001b[0m\u001b[0m\n\u001b[1;32m      8\u001b[0m ct = make_column_transformer(\n\u001b[0;32m----> 9\u001b[0;31m     \u001b[0mMinMaxScaler\u001b[0m\u001b[0;34m(\u001b[0m\u001b[0;34m)\u001b[0m\u001b[0;34m,\u001b[0m \u001b[0;34m[\u001b[0m\u001b[0;34m'numerical_column'\u001b[0m\u001b[0;34m]\u001b[0m\u001b[0;34m\u001b[0m\u001b[0;34m\u001b[0m\u001b[0m\n\u001b[0m\u001b[1;32m     10\u001b[0m )\n",
            "\u001b[0;32m/usr/local/lib/python3.7/dist-packages/sklearn/compose/_column_transformer.py\u001b[0m in \u001b[0;36mmake_column_transformer\u001b[0;34m(remainder, sparse_threshold, n_jobs, verbose, verbose_feature_names_out, *transformers)\u001b[0m\n\u001b[1;32m    953\u001b[0m     \u001b[0;31m# transformer_weights keyword is not passed through because the user\u001b[0m\u001b[0;34m\u001b[0m\u001b[0;34m\u001b[0m\u001b[0;34m\u001b[0m\u001b[0m\n\u001b[1;32m    954\u001b[0m     \u001b[0;31m# would need to know the automatically generated names of the transformers\u001b[0m\u001b[0;34m\u001b[0m\u001b[0;34m\u001b[0m\u001b[0;34m\u001b[0m\u001b[0m\n\u001b[0;32m--> 955\u001b[0;31m     \u001b[0mtransformer_list\u001b[0m \u001b[0;34m=\u001b[0m \u001b[0m_get_transformer_list\u001b[0m\u001b[0;34m(\u001b[0m\u001b[0mtransformers\u001b[0m\u001b[0;34m)\u001b[0m\u001b[0;34m\u001b[0m\u001b[0;34m\u001b[0m\u001b[0m\n\u001b[0m\u001b[1;32m    956\u001b[0m     return ColumnTransformer(\n\u001b[1;32m    957\u001b[0m         \u001b[0mtransformer_list\u001b[0m\u001b[0;34m,\u001b[0m\u001b[0;34m\u001b[0m\u001b[0;34m\u001b[0m\u001b[0m\n",
            "\u001b[0;32m/usr/local/lib/python3.7/dist-packages/sklearn/compose/_column_transformer.py\u001b[0m in \u001b[0;36m_get_transformer_list\u001b[0;34m(estimators)\u001b[0m\n\u001b[1;32m    844\u001b[0m \u001b[0;34m\u001b[0m\u001b[0m\n\u001b[1;32m    845\u001b[0m     \"\"\"\n\u001b[0;32m--> 846\u001b[0;31m     \u001b[0mtransformers\u001b[0m\u001b[0;34m,\u001b[0m \u001b[0mcolumns\u001b[0m \u001b[0;34m=\u001b[0m \u001b[0mzip\u001b[0m\u001b[0;34m(\u001b[0m\u001b[0;34m*\u001b[0m\u001b[0mestimators\u001b[0m\u001b[0;34m)\u001b[0m\u001b[0;34m\u001b[0m\u001b[0;34m\u001b[0m\u001b[0m\n\u001b[0m\u001b[1;32m    847\u001b[0m     \u001b[0mnames\u001b[0m\u001b[0;34m,\u001b[0m \u001b[0m_\u001b[0m \u001b[0;34m=\u001b[0m \u001b[0mzip\u001b[0m\u001b[0;34m(\u001b[0m\u001b[0;34m*\u001b[0m\u001b[0m_name_estimators\u001b[0m\u001b[0;34m(\u001b[0m\u001b[0mtransformers\u001b[0m\u001b[0;34m)\u001b[0m\u001b[0;34m)\u001b[0m\u001b[0;34m\u001b[0m\u001b[0;34m\u001b[0m\u001b[0m\n\u001b[1;32m    848\u001b[0m \u001b[0;34m\u001b[0m\u001b[0m\n",
            "\u001b[0;31mTypeError\u001b[0m: zip argument #1 must support iteration"
          ]
        }
      ]
    }
  ]
}